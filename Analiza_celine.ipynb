{
 "cells": [
  {
   "cell_type": "code",
   "execution_count": 8,
   "metadata": {
    "collapsed": false
   },
   "outputs": [],
   "source": [
    "import pandas as pd\n",
    "import matplotlib.pyplot as plt\n",
    "\n",
    "%matplotlib inline\n",
    "\n",
    "pd.options.display.max_rows = 5"
   ]
  },
  {
   "cell_type": "code",
   "execution_count": 6,
   "metadata": {
    "collapsed": false
   },
   "outputs": [
    {
     "data": {
      "text/html": [
       "<div>\n",
       "<table border=\"1\" class=\"dataframe\">\n",
       "  <thead>\n",
       "    <tr style=\"text-align: right;\">\n",
       "      <th></th>\n",
       "      <th>Domain Code</th>\n",
       "      <th>Domain</th>\n",
       "      <th>Country</th>\n",
       "      <th>Element Code</th>\n",
       "      <th>Element</th>\n",
       "      <th>Item Code</th>\n",
       "      <th>Item</th>\n",
       "      <th>Year Code</th>\n",
       "      <th>Year</th>\n",
       "      <th>Unit</th>\n",
       "      <th>Value</th>\n",
       "      <th>Flag</th>\n",
       "      <th>Flag Description</th>\n",
       "    </tr>\n",
       "    <tr>\n",
       "      <th>Country Code</th>\n",
       "      <th></th>\n",
       "      <th></th>\n",
       "      <th></th>\n",
       "      <th></th>\n",
       "      <th></th>\n",
       "      <th></th>\n",
       "      <th></th>\n",
       "      <th></th>\n",
       "      <th></th>\n",
       "      <th></th>\n",
       "      <th></th>\n",
       "      <th></th>\n",
       "      <th></th>\n",
       "    </tr>\n",
       "  </thead>\n",
       "  <tbody>\n",
       "    <tr>\n",
       "      <th>5100</th>\n",
       "      <td>QC</td>\n",
       "      <td>Crops</td>\n",
       "      <td>Africa</td>\n",
       "      <td>5312</td>\n",
       "      <td>Area harvested</td>\n",
       "      <td>406</td>\n",
       "      <td>Garlic</td>\n",
       "      <td>1964</td>\n",
       "      <td>1964</td>\n",
       "      <td>Ha</td>\n",
       "      <td>7190.0</td>\n",
       "      <td>A</td>\n",
       "      <td>Aggregate, may include official, semi-official...</td>\n",
       "    </tr>\n",
       "    <tr>\n",
       "      <th>5100</th>\n",
       "      <td>QC</td>\n",
       "      <td>Crops</td>\n",
       "      <td>Africa</td>\n",
       "      <td>5419</td>\n",
       "      <td>Yield</td>\n",
       "      <td>406</td>\n",
       "      <td>Garlic</td>\n",
       "      <td>1964</td>\n",
       "      <td>1964</td>\n",
       "      <td>Hg/Ha</td>\n",
       "      <td>103451.0</td>\n",
       "      <td>Fc</td>\n",
       "      <td>Calculated data</td>\n",
       "    </tr>\n",
       "    <tr>\n",
       "      <th>5100</th>\n",
       "      <td>QC</td>\n",
       "      <td>Crops</td>\n",
       "      <td>Africa</td>\n",
       "      <td>5510</td>\n",
       "      <td>Production</td>\n",
       "      <td>406</td>\n",
       "      <td>Garlic</td>\n",
       "      <td>1964</td>\n",
       "      <td>1964</td>\n",
       "      <td>tonnes</td>\n",
       "      <td>74381.0</td>\n",
       "      <td>A</td>\n",
       "      <td>Aggregate, may include official, semi-official...</td>\n",
       "    </tr>\n",
       "    <tr>\n",
       "      <th>5200</th>\n",
       "      <td>QC</td>\n",
       "      <td>Crops</td>\n",
       "      <td>Americas</td>\n",
       "      <td>5312</td>\n",
       "      <td>Area harvested</td>\n",
       "      <td>406</td>\n",
       "      <td>Garlic</td>\n",
       "      <td>1964</td>\n",
       "      <td>1964</td>\n",
       "      <td>Ha</td>\n",
       "      <td>38601.0</td>\n",
       "      <td>A</td>\n",
       "      <td>Aggregate, may include official, semi-official...</td>\n",
       "    </tr>\n",
       "    <tr>\n",
       "      <th>5200</th>\n",
       "      <td>QC</td>\n",
       "      <td>Crops</td>\n",
       "      <td>Americas</td>\n",
       "      <td>5419</td>\n",
       "      <td>Yield</td>\n",
       "      <td>406</td>\n",
       "      <td>Garlic</td>\n",
       "      <td>1964</td>\n",
       "      <td>1964</td>\n",
       "      <td>Hg/Ha</td>\n",
       "      <td>37839.0</td>\n",
       "      <td>Fc</td>\n",
       "      <td>Calculated data</td>\n",
       "    </tr>\n",
       "  </tbody>\n",
       "</table>\n",
       "</div>"
      ],
      "text/plain": [
       "             Domain Code Domain   Country  Element Code         Element  \\\n",
       "Country Code                                                              \n",
       "5100                  QC  Crops    Africa          5312  Area harvested   \n",
       "5100                  QC  Crops    Africa          5419           Yield   \n",
       "5100                  QC  Crops    Africa          5510      Production   \n",
       "5200                  QC  Crops  Americas          5312  Area harvested   \n",
       "5200                  QC  Crops  Americas          5419           Yield   \n",
       "\n",
       "              Item Code    Item  Year Code  Year    Unit     Value Flag  \\\n",
       "Country Code                                                              \n",
       "5100                406  Garlic       1964  1964      Ha    7190.0    A   \n",
       "5100                406  Garlic       1964  1964   Hg/Ha  103451.0   Fc   \n",
       "5100                406  Garlic       1964  1964  tonnes   74381.0    A   \n",
       "5200                406  Garlic       1964  1964      Ha   38601.0    A   \n",
       "5200                406  Garlic       1964  1964   Hg/Ha   37839.0   Fc   \n",
       "\n",
       "                                               Flag Description  \n",
       "Country Code                                                     \n",
       "5100          Aggregate, may include official, semi-official...  \n",
       "5100                                            Calculated data  \n",
       "5100          Aggregate, may include official, semi-official...  \n",
       "5200          Aggregate, may include official, semi-official...  \n",
       "5200                                            Calculated data  "
      ]
     },
     "execution_count": 6,
     "metadata": {},
     "output_type": "execute_result"
    }
   ],
   "source": [
    "celine_vse = pd.read_csv('celine.csv', index_col = \"Country Code\")\n",
    "celine_vse.head()"
   ]
  },
  {
   "cell_type": "code",
   "execution_count": 10,
   "metadata": {
    "collapsed": false,
    "scrolled": true
   },
   "outputs": [
    {
     "data": {
      "text/html": [
       "<div>\n",
       "<table border=\"1\" class=\"dataframe\">\n",
       "  <thead>\n",
       "    <tr style=\"text-align: right;\">\n",
       "      <th></th>\n",
       "      <th>Country</th>\n",
       "      <th>Element</th>\n",
       "      <th>Year</th>\n",
       "      <th>Value</th>\n",
       "      <th>Flag</th>\n",
       "    </tr>\n",
       "    <tr>\n",
       "      <th>Country Code</th>\n",
       "      <th></th>\n",
       "      <th></th>\n",
       "      <th></th>\n",
       "      <th></th>\n",
       "      <th></th>\n",
       "    </tr>\n",
       "  </thead>\n",
       "  <tbody>\n",
       "    <tr>\n",
       "      <th>5100</th>\n",
       "      <td>Africa</td>\n",
       "      <td>Area harvested</td>\n",
       "      <td>1964</td>\n",
       "      <td>7190.0</td>\n",
       "      <td>A</td>\n",
       "    </tr>\n",
       "    <tr>\n",
       "      <th>5100</th>\n",
       "      <td>Africa</td>\n",
       "      <td>Yield</td>\n",
       "      <td>1964</td>\n",
       "      <td>103451.0</td>\n",
       "      <td>Fc</td>\n",
       "    </tr>\n",
       "    <tr>\n",
       "      <th>...</th>\n",
       "      <td>...</td>\n",
       "      <td>...</td>\n",
       "      <td>...</td>\n",
       "      <td>...</td>\n",
       "      <td>...</td>\n",
       "    </tr>\n",
       "    <tr>\n",
       "      <th>5100</th>\n",
       "      <td>Africa</td>\n",
       "      <td>Yield</td>\n",
       "      <td>2013</td>\n",
       "      <td>112039.0</td>\n",
       "      <td>Fc</td>\n",
       "    </tr>\n",
       "    <tr>\n",
       "      <th>5100</th>\n",
       "      <td>Africa</td>\n",
       "      <td>Area harvested</td>\n",
       "      <td>2013</td>\n",
       "      <td>57237.0</td>\n",
       "      <td>A</td>\n",
       "    </tr>\n",
       "  </tbody>\n",
       "</table>\n",
       "<p>700 rows × 5 columns</p>\n",
       "</div>"
      ],
      "text/plain": [
       "             Country         Element  Year     Value Flag\n",
       "Country Code                                             \n",
       "5100          Africa  Area harvested  1964    7190.0    A\n",
       "5100          Africa           Yield  1964  103451.0   Fc\n",
       "...              ...             ...   ...       ...  ...\n",
       "5100          Africa           Yield  2013  112039.0   Fc\n",
       "5100          Africa  Area harvested  2013   57237.0    A\n",
       "\n",
       "[700 rows x 5 columns]"
      ]
     },
     "execution_count": 10,
     "metadata": {},
     "output_type": "execute_result"
    }
   ],
   "source": [
    "celine = celine_vse.drop([\"Domain Code\", \"Domain\", \"Element Code\", \"Year Code\", \"Item\", \"Item Code\", \"Unit\", \"Flag Description\"], axis = 1)\n",
    "celine\n",
    "#pridelek = celine[celine[\"Element\"] == \"Yield\"]\n",
    "#pridelek\n",
    "#povrsina = celine[celine[\"Element\" == \"Area harvested\"]]"
   ]
  },
  {
   "cell_type": "code",
   "execution_count": 12,
   "metadata": {
    "collapsed": false
   },
   "outputs": [
    {
     "name": "stdout",
     "output_type": "stream",
     "text": [
      "Americas\n",
      "Africa\n",
      "Europe\n",
      "Asia\n"
     ]
    }
   ],
   "source": [
    "drzave = celine['Country']\n",
    "drzave\n",
    "for drzava in set(drzave):\n",
    "    print(drzava)\n",
    "# koda = celine['Country Code']\n",
    "# koda"
   ]
  },
  {
   "cell_type": "code",
   "execution_count": 13,
   "metadata": {
    "collapsed": false,
    "scrolled": false
   },
   "outputs": [
    {
     "data": {
      "text/html": [
       "<div>\n",
       "<table border=\"1\" class=\"dataframe\">\n",
       "  <thead>\n",
       "    <tr style=\"text-align: right;\">\n",
       "      <th></th>\n",
       "      <th>Element</th>\n",
       "      <th>Year</th>\n",
       "      <th>Value</th>\n",
       "      <th>Flag</th>\n",
       "    </tr>\n",
       "    <tr>\n",
       "      <th>Country</th>\n",
       "      <th></th>\n",
       "      <th></th>\n",
       "      <th></th>\n",
       "      <th></th>\n",
       "    </tr>\n",
       "  </thead>\n",
       "  <tbody>\n",
       "    <tr>\n",
       "      <th>Africa</th>\n",
       "      <td>150</td>\n",
       "      <td>150</td>\n",
       "      <td>150</td>\n",
       "      <td>150</td>\n",
       "    </tr>\n",
       "    <tr>\n",
       "      <th>Americas</th>\n",
       "      <td>200</td>\n",
       "      <td>200</td>\n",
       "      <td>200</td>\n",
       "      <td>200</td>\n",
       "    </tr>\n",
       "    <tr>\n",
       "      <th>Asia</th>\n",
       "      <td>200</td>\n",
       "      <td>200</td>\n",
       "      <td>200</td>\n",
       "      <td>200</td>\n",
       "    </tr>\n",
       "    <tr>\n",
       "      <th>Europe</th>\n",
       "      <td>150</td>\n",
       "      <td>150</td>\n",
       "      <td>150</td>\n",
       "      <td>150</td>\n",
       "    </tr>\n",
       "  </tbody>\n",
       "</table>\n",
       "</div>"
      ],
      "text/plain": [
       "          Element  Year  Value  Flag\n",
       "Country                             \n",
       "Africa        150   150    150   150\n",
       "Americas      200   200    200   200\n",
       "Asia          200   200    200   200\n",
       "Europe        150   150    150   150"
      ]
     },
     "execution_count": 13,
     "metadata": {},
     "output_type": "execute_result"
    }
   ],
   "source": [
    "drzave = celine.groupby(['Country'])\n",
    "drzave[\"Value\"].sum()\n",
    "drzave[\"Value\"].mean()\n",
    "drzave.count()"
   ]
  },
  {
   "cell_type": "code",
   "execution_count": 57,
   "metadata": {
    "collapsed": false
   },
   "outputs": [
    {
     "data": {
      "text/plain": [
       "Africa      50\n",
       "Europe      50\n",
       "Asia        50\n",
       "Americas    50\n",
       "Name: Country, dtype: int64"
      ]
     },
     "execution_count": 57,
     "metadata": {},
     "output_type": "execute_result"
    }
   ],
   "source": [
    "is_yield = celine[\"Element\"] == \"Yield\"\n",
    "pridelek = celine[is_yield]\n",
    "pridelek[\"Country\"].value_counts()"
   ]
  },
  {
   "cell_type": "code",
   "execution_count": 58,
   "metadata": {
    "collapsed": false
   },
   "outputs": [
    {
     "data": {
      "text/plain": [
       "Country    200\n",
       "Element    200\n",
       "Year       200\n",
       "Value      200\n",
       "dtype: int64"
      ]
     },
     "execution_count": 58,
     "metadata": {},
     "output_type": "execute_result"
    }
   ],
   "source": [
    "cel = celine[[\"Country\", \"Element\", \"Year\", \"Value\"]]\n",
    "cel = cel[is_yield]\n",
    "cel.count()"
   ]
  },
  {
   "cell_type": "code",
   "execution_count": 59,
   "metadata": {
    "collapsed": false
   },
   "outputs": [
    {
     "data": {
      "text/plain": [
       "<matplotlib.axes._subplots.AxesSubplot at 0x112cef0>"
      ]
     },
     "execution_count": 59,
     "metadata": {},
     "output_type": "execute_result"
    },
    {
     "data": {
      "image/png": "[encoded data removed]",
      "text/plain": [
       "<matplotlib.figure.Figure at 0x110ecb0>"
      ]
     },
     "metadata": {},
     "output_type": "display_data"
    }
   ],
   "source": [
    "vsota_celine = cel.groupby(\"Country\")[\"Value\"].aggregate(sum)\n",
    "vsota_celine.plot(kind = \"bar\")\n"
   ]
  },
  {
   "cell_type": "code",
   "execution_count": 60,
   "metadata": {
    "collapsed": false
   },
   "outputs": [
    {
     "data": {
      "text/plain": [
       "<matplotlib.axes._subplots.AxesSubplot at 0x1168eb0>"
      ]
     },
     "execution_count": 60,
     "metadata": {},
     "output_type": "execute_result"
    },
    {
     "data": {
      "image/png": "[encoded data removed]",
      "text/plain": [
       "<matplotlib.figure.Figure at 0x1190590>"
      ]
     },
     "metadata": {},
     "output_type": "display_data"
    }
   ],
   "source": [
    "cel.groupby(\"Year\").aggregate(sum).plot()"
   ]
  },
  {
   "cell_type": "code",
   "execution_count": 64,
   "metadata": {
    "collapsed": false
   },
   "outputs": [],
   "source": [
    "po_letih = celine.groupby(\"Year\")"
   ]
  },
  {
   "cell_type": "code",
   "execution_count": 67,
   "metadata": {
    "collapsed": false
   },
   "outputs": [
    {
     "data": {
      "text/html": [
       "<div>\n",
       "<table border=\"1\" class=\"dataframe\">\n",
       "  <thead>\n",
       "    <tr style=\"text-align: right;\">\n",
       "      <th></th>\n",
       "      <th>Country</th>\n",
       "      <th>Element</th>\n",
       "      <th>Value</th>\n",
       "      <th>Flag</th>\n",
       "    </tr>\n",
       "    <tr>\n",
       "      <th>Year</th>\n",
       "      <th></th>\n",
       "      <th></th>\n",
       "      <th></th>\n",
       "      <th></th>\n",
       "    </tr>\n",
       "  </thead>\n",
       "  <tbody>\n",
       "    <tr>\n",
       "      <th>1964</th>\n",
       "      <td>14</td>\n",
       "      <td>14</td>\n",
       "      <td>14</td>\n",
       "      <td>14</td>\n",
       "    </tr>\n",
       "    <tr>\n",
       "      <th>1965</th>\n",
       "      <td>14</td>\n",
       "      <td>14</td>\n",
       "      <td>14</td>\n",
       "      <td>14</td>\n",
       "    </tr>\n",
       "    <tr>\n",
       "      <th>...</th>\n",
       "      <td>...</td>\n",
       "      <td>...</td>\n",
       "      <td>...</td>\n",
       "      <td>...</td>\n",
       "    </tr>\n",
       "    <tr>\n",
       "      <th>2012</th>\n",
       "      <td>14</td>\n",
       "      <td>14</td>\n",
       "      <td>14</td>\n",
       "      <td>14</td>\n",
       "    </tr>\n",
       "    <tr>\n",
       "      <th>2013</th>\n",
       "      <td>14</td>\n",
       "      <td>14</td>\n",
       "      <td>14</td>\n",
       "      <td>14</td>\n",
       "    </tr>\n",
       "  </tbody>\n",
       "</table>\n",
       "<p>50 rows × 4 columns</p>\n",
       "</div>"
      ],
      "text/plain": [
       "      Country  Element  Value  Flag\n",
       "Year                               \n",
       "1964       14       14     14    14\n",
       "1965       14       14     14    14\n",
       "...       ...      ...    ...   ...\n",
       "2012       14       14     14    14\n",
       "2013       14       14     14    14\n",
       "\n",
       "[50 rows x 4 columns]"
      ]
     },
     "execution_count": 67,
     "metadata": {},
     "output_type": "execute_result"
    }
   ],
   "source": [
    "po_letih.count()"
   ]
  },
  {
   "cell_type": "code",
   "execution_count": null,
   "metadata": {
    "collapsed": true
   },
   "outputs": [],
   "source": []
  }
 ],
 "metadata": {
  "kernelspec": {
   "display_name": "Python 3",
   "language": "python",
   "name": "python3"
  },
  "language_info": {
   "codemirror_mode": {
    "name": "ipython",
    "version": 3
   },
   "file_extension": ".py",
   "mimetype": "text/x-python",
   "name": "python",
   "nbconvert_exporter": "python",
   "pygments_lexer": "ipython3",
   "version": "3.5.1"
  }
 },
 "nbformat": 4,
 "nbformat_minor": 1
}
